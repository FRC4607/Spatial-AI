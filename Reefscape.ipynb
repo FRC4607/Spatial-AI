{
  "nbformat": 4,
  "nbformat_minor": 0,
  "metadata": {
    "colab": {
      "provenance": [],
      "gpuType": "T4",
      "authorship_tag": "ABX9TyNNHKMfVUFnSjtP/yT+4hba",
      "include_colab_link": true
    },
    "kernelspec": {
      "name": "python3",
      "display_name": "Python 3"
    },
    "language_info": {
      "name": "python"
    },
    "accelerator": "GPU"
  },
  "cells": [
    {
      "cell_type": "markdown",
      "metadata": {
        "id": "view-in-github",
        "colab_type": "text"
      },
      "source": [
        "<a href=\"https://colab.research.google.com/github/FRC4607/Spatial-AI/blob/main/Reefscape.ipynb\" target=\"_parent\"><img src=\"https://colab.research.google.com/assets/colab-badge.svg\" alt=\"Open In Colab\"/></a>"
      ]
    },
    {
      "cell_type": "code",
      "execution_count": 10,
      "metadata": {
        "collapsed": true,
        "id": "afvZOVB8CseL"
      },
      "outputs": [],
      "source": [
        "%cd /content\n",
        "!git clone https://github.com/ultralytics/ultralytics\n",
        "%pip install -qe ultralytics\n",
        "%cd ultralytics/\n",
        "\n",
        "import zipfile\n",
        "from google.colab import drive\n",
        "drive.mount('/content/drive/')\n",
        "zip_ref = zipfile.ZipFile(\"/content/drive/My Drive/Colab Notebooks/Reefscape.zip\", 'r')\n",
        "zip_ref.extractall(\"/content/Reefscape\")\n",
        "zip_ref.close()\n",
        "\n",
        "!yolo train model=yolov8n.pt data=\"/content/Reefscape/data.yaml\" epochs=50 imgsz=640 batch=32 device=0\n",
        "!yolo val model=runs/detect/train/weights/best.pt data=\"/content/Reefscape/data.yaml\"\n",
        "\n",
        "from datetime import datetime\n",
        "datetime_str = datetime.now().strftime(\"%Y-%m-%d_%H-%M-%S\")\n",
        "src = \"runs/detect/train/weights/best.pt\"\n",
        "dst = f\"/content/drive/MyDrive/Colab Notebooks/yolov8n_{datetime_str}.pt\"\n",
        "!cp \"{src}\" \"{dst}\"\n"
      ]
    }
  ]
}